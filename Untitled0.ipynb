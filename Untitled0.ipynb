{
  "nbformat": 4,
  "nbformat_minor": 0,
  "metadata": {
    "colab": {
      "name": "Untitled0.ipynb",
      "provenance": [],
      "collapsed_sections": [],
      "authorship_tag": "ABX9TyMNPkvkHVAaD0Vqug8BJ5Ub",
      "include_colab_link": true
    },
    "kernelspec": {
      "name": "python3",
      "display_name": "Python 3"
    },
    "language_info": {
      "name": "python"
    }
  },
  "cells": [
    {
      "cell_type": "markdown",
      "metadata": {
        "id": "view-in-github",
        "colab_type": "text"
      },
      "source": [
        "<a href=\"https://colab.research.google.com/github/hatamturk/kosulluolasilik/blob/main/Untitled0.ipynb\" target=\"_parent\"><img src=\"https://colab.research.google.com/assets/colab-badge.svg\" alt=\"Open In Colab\"/></a>"
      ]
    },
    {
      "cell_type": "markdown",
      "metadata": {
        "id": "XfhS43opn2qL"
      },
      "source": [
        "Bir zar atıldığında üste gelen sayının 2 den büyük olduğu bilindiğine göre, zarın üst yüzüne gelen sayının çift sayı olma olasılığı kaçtır?\n"
      ]
    },
    {
      "cell_type": "code",
      "metadata": {
        "id": "RBp6dcOdoC9P"
      },
      "source": [
        "zar=[1,2,3,4,5,6]\n",
        "tek = [1,3,5,]\n",
        "cift=[2,4,6]\n",
        "zar_alt=[]\n",
        "ktek=set(tek)\n",
        "kcift=set(cift)\n",
        "kzar=set(zar)\n",
        "print(\"Zarın kaçtan büyük olma ihtimalini hesaplayacaksınız:\")\n",
        "buyuk= int(input(\"Kaçtan büyük olacak:\"))\n",
        "print(\"Tek/çift gelme olasılığından birini seçin\")\n",
        "sec= int(input(\"Tek(1)/Çift(2):\"))\n",
        "def sonuc(secim,alt_kume):\n",
        "   kesisim=len(secim&alt_kume)\n",
        "   return kesisim / len(alt_kume)\n",
        "for i in range(buyuk+1,len(zar)+1):\n",
        "      zar_alt.append(i)\n",
        "kzar_alt = set(zar_alt)\n",
        "if(sec == 1):\n",
        "  print(sonuc(ktek,kzar_alt))\n",
        "if(sec == 2):\n",
        "  print(sonuc(kcift,kzar_alt))"
      ],
      "execution_count": null,
      "outputs": []
    }
  ]
}